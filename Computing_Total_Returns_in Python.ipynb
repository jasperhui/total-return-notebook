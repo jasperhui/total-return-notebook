{
  "nbformat": 4,
  "nbformat_minor": 0,
  "metadata": {
    "kernelspec": {
      "display_name": "Python 3",
      "language": "python",
      "name": "python3"
    },
    "language_info": {
      "codemirror_mode": {
        "name": "ipython",
        "version": 3
      },
      "file_extension": ".py",
      "mimetype": "text/x-python",
      "name": "python",
      "nbconvert_exporter": "python",
      "pygments_lexer": "ipython3",
      "version": "3.7.6"
    },
    "colab": {
      "provenance": [],
      "collapsed_sections": []
    }
  },
  "cells": [
    {
      "cell_type": "markdown",
      "metadata": {
        "id": "Zc071VS_JYDd"
      },
      "source": [
        "Hello all! This notebook is for those interested in using Python to calculate the total return for equity securities such as exchange traded funds (ETFs). Data is extracted from Yahoo Finance using the yfinance package and other packages such as pandas and numpy will be used for data manipulation and calculations.\n",
        "\n",
        "The calculation of price return has been covered extensively online and computing it is straight forward. While there is much less available concerning the calculation of total return. This post will start with an explanation of how to compute price return and finish by describing how to calculate total returns. \n",
        "\n",
        "First of all, what is meant by total return? According to Investopedia, total return is defined as:\n",
        "\n",
        ">Total return, when measuring performance, is the actual rate of return of an investment or a pool of investments over a given evaluation period. Total return includes interest, capital gains, dividends and distributions realized over a given period of time.\n",
        "\n",
        ">Total return accounts for two categories of return: income including interest paid by fixed-income investments, distributions or dividends and capital appreciation, representing the change in the market price of an asset. \n",
        "\n",
        "From: https://www.investopedia.com/terms/t/totalreturn.asp\n",
        "\n",
        "In other words, along with the capital appreciation included in price returns, total return for equities also includes dividend income. By recording only the capital appreciation upon calculating price returns, one misses out on an important stream of income from stocks that do pay dividends. Therefore, it's vital to calculate total return to get a true understanding of an asset's returns. Failure to do so means underrating assets with dividend returns in favour of assets with high capital appreciation.\n",
        "\n",
        "First, we need to import all the needed packages:"
      ]
    },
    {
      "cell_type": "code",
      "metadata": {
        "id": "EQC1FyehJYDf",
        "colab": {
          "base_uri": "https://localhost:8080/"
        },
        "outputId": "73cf3996-19d3-4c46-8a4a-388fb21cb00e"
      },
      "source": [
        "!pip install yfinance\n",
        "\n",
        "import pandas as pd\n",
        "import numpy as np\n",
        "import yfinance as yf\n",
        "import matplotlib.pyplot as plt\n",
        "plt.style.use('fivethirtyeight')"
      ],
      "execution_count": 2,
      "outputs": [
        {
          "output_type": "stream",
          "name": "stdout",
          "text": [
            "Looking in indexes: https://pypi.org/simple, https://us-python.pkg.dev/colab-wheels/public/simple/\n",
            "Collecting yfinance\n",
            "  Downloading yfinance-0.1.74-py2.py3-none-any.whl (27 kB)\n",
            "Requirement already satisfied: pandas>=0.24.0 in /usr/local/lib/python3.7/dist-packages (from yfinance) (1.3.5)\n",
            "Collecting requests>=2.26\n",
            "  Downloading requests-2.28.1-py3-none-any.whl (62 kB)\n",
            "\u001b[K     |████████████████████████████████| 62 kB 1.9 MB/s \n",
            "\u001b[?25hRequirement already satisfied: lxml>=4.5.1 in /usr/local/lib/python3.7/dist-packages (from yfinance) (4.9.1)\n",
            "Requirement already satisfied: multitasking>=0.0.7 in /usr/local/lib/python3.7/dist-packages (from yfinance) (0.0.11)\n",
            "Requirement already satisfied: numpy>=1.15 in /usr/local/lib/python3.7/dist-packages (from yfinance) (1.21.6)\n",
            "Requirement already satisfied: python-dateutil>=2.7.3 in /usr/local/lib/python3.7/dist-packages (from pandas>=0.24.0->yfinance) (2.8.2)\n",
            "Requirement already satisfied: pytz>=2017.3 in /usr/local/lib/python3.7/dist-packages (from pandas>=0.24.0->yfinance) (2022.2.1)\n",
            "Requirement already satisfied: six>=1.5 in /usr/local/lib/python3.7/dist-packages (from python-dateutil>=2.7.3->pandas>=0.24.0->yfinance) (1.15.0)\n",
            "Requirement already satisfied: charset-normalizer<3,>=2 in /usr/local/lib/python3.7/dist-packages (from requests>=2.26->yfinance) (2.1.1)\n",
            "Requirement already satisfied: idna<4,>=2.5 in /usr/local/lib/python3.7/dist-packages (from requests>=2.26->yfinance) (2.10)\n",
            "Requirement already satisfied: urllib3<1.27,>=1.21.1 in /usr/local/lib/python3.7/dist-packages (from requests>=2.26->yfinance) (1.24.3)\n",
            "Requirement already satisfied: certifi>=2017.4.17 in /usr/local/lib/python3.7/dist-packages (from requests>=2.26->yfinance) (2022.6.15)\n",
            "Installing collected packages: requests, yfinance\n",
            "  Attempting uninstall: requests\n",
            "    Found existing installation: requests 2.23.0\n",
            "    Uninstalling requests-2.23.0:\n",
            "      Successfully uninstalled requests-2.23.0\n",
            "Successfully installed requests-2.28.1 yfinance-0.1.74\n"
          ]
        }
      ]
    },
    {
      "cell_type": "markdown",
      "metadata": {
        "id": "ZVZUkDhEJYDo"
      },
      "source": [
        "For reference, a brief introduction of the packages that were just imported above:\n",
        "*   Pandas is a must for any type of data manipulation in Python\n",
        "*   NumPy adds various math functions to Python including the logarithm function, which is what we'll be mainly using NumPy for in this example\n",
        "*   yFinance facilitates the extraction of data from Yahoo Finance, which is where the data will be sourced as it is the most widely available free financial data at our disposal\n",
        "*   matplotlib.pyplot provides a variety of graphing options and we'll use the fivethirtyeight style of Nate Silver fame\n",
        "\n",
        "After importing the packages, let's grab an asset price series. This example assumes that the security does not have any stock splits. Calculating the return for securities that have stock splits requires an adjusted close price which will be covered in a future notebook.\n",
        "\n",
        "Let's choose SPY, an ETF tracking the Standard & Poor's 500 (S&P 500), the standard US equity benchmark index. As mentioned previously, we will be using the yfinance package to pull data from Yahoo Finance and we are setting auto_adjust to False as we want the unadjusted data to do our calculations. "
      ]
    },
    {
      "cell_type": "code",
      "metadata": {
        "id": "fYpy5QkuJYDs"
      },
      "source": [
        "# Extract SPY data from Yahoo Finance from start of 2016 to end of 2019\n",
        "data = yf.Ticker('SPY').history(start = \"2016-01-01\", end = \"2019-12-31\", auto_adjust = False)"
      ],
      "execution_count": 3,
      "outputs": []
    },
    {
      "cell_type": "markdown",
      "metadata": {
        "id": "mdv_0BtxJYDx"
      },
      "source": [
        "Let's take a look at the data series, the head() function shows the first five rows of a pandas dataframe."
      ]
    },
    {
      "cell_type": "code",
      "metadata": {
        "id": "MzClnKeUJYDz",
        "colab": {
          "base_uri": "https://localhost:8080/",
          "height": 238
        },
        "outputId": "64b41880-e8fa-465a-a6fa-70a763ee25c5"
      },
      "source": [
        "data.head()"
      ],
      "execution_count": 4,
      "outputs": [
        {
          "output_type": "execute_result",
          "data": {
            "text/plain": [
              "                  Open        High         Low       Close   Adj Close  \\\n",
              "Date                                                                     \n",
              "2016-01-04  200.490005  201.029999  198.589996  201.020004  178.051270   \n",
              "2016-01-05  201.399994  201.899994  200.050003  201.360001  178.352402   \n",
              "2016-01-06  198.339996  200.059998  197.600006  198.820007  176.102646   \n",
              "2016-01-07  195.330002  197.440002  193.589996  194.050003  171.877716   \n",
              "2016-01-08  195.190002  195.850006  191.580002  191.919998  169.991028   \n",
              "\n",
              "               Volume  Dividends  Stock Splits  \n",
              "Date                                            \n",
              "2016-01-04  222353500        0.0             0  \n",
              "2016-01-05  110845800        0.0             0  \n",
              "2016-01-06  152112600        0.0             0  \n",
              "2016-01-07  213436100        0.0             0  \n",
              "2016-01-08  209817200        0.0             0  "
            ],
            "text/html": [
              "\n",
              "  <div id=\"df-d863cd50-5563-4456-b661-5056981de4e8\">\n",
              "    <div class=\"colab-df-container\">\n",
              "      <div>\n",
              "<style scoped>\n",
              "    .dataframe tbody tr th:only-of-type {\n",
              "        vertical-align: middle;\n",
              "    }\n",
              "\n",
              "    .dataframe tbody tr th {\n",
              "        vertical-align: top;\n",
              "    }\n",
              "\n",
              "    .dataframe thead th {\n",
              "        text-align: right;\n",
              "    }\n",
              "</style>\n",
              "<table border=\"1\" class=\"dataframe\">\n",
              "  <thead>\n",
              "    <tr style=\"text-align: right;\">\n",
              "      <th></th>\n",
              "      <th>Open</th>\n",
              "      <th>High</th>\n",
              "      <th>Low</th>\n",
              "      <th>Close</th>\n",
              "      <th>Adj Close</th>\n",
              "      <th>Volume</th>\n",
              "      <th>Dividends</th>\n",
              "      <th>Stock Splits</th>\n",
              "    </tr>\n",
              "    <tr>\n",
              "      <th>Date</th>\n",
              "      <th></th>\n",
              "      <th></th>\n",
              "      <th></th>\n",
              "      <th></th>\n",
              "      <th></th>\n",
              "      <th></th>\n",
              "      <th></th>\n",
              "      <th></th>\n",
              "    </tr>\n",
              "  </thead>\n",
              "  <tbody>\n",
              "    <tr>\n",
              "      <th>2016-01-04</th>\n",
              "      <td>200.490005</td>\n",
              "      <td>201.029999</td>\n",
              "      <td>198.589996</td>\n",
              "      <td>201.020004</td>\n",
              "      <td>178.051270</td>\n",
              "      <td>222353500</td>\n",
              "      <td>0.0</td>\n",
              "      <td>0</td>\n",
              "    </tr>\n",
              "    <tr>\n",
              "      <th>2016-01-05</th>\n",
              "      <td>201.399994</td>\n",
              "      <td>201.899994</td>\n",
              "      <td>200.050003</td>\n",
              "      <td>201.360001</td>\n",
              "      <td>178.352402</td>\n",
              "      <td>110845800</td>\n",
              "      <td>0.0</td>\n",
              "      <td>0</td>\n",
              "    </tr>\n",
              "    <tr>\n",
              "      <th>2016-01-06</th>\n",
              "      <td>198.339996</td>\n",
              "      <td>200.059998</td>\n",
              "      <td>197.600006</td>\n",
              "      <td>198.820007</td>\n",
              "      <td>176.102646</td>\n",
              "      <td>152112600</td>\n",
              "      <td>0.0</td>\n",
              "      <td>0</td>\n",
              "    </tr>\n",
              "    <tr>\n",
              "      <th>2016-01-07</th>\n",
              "      <td>195.330002</td>\n",
              "      <td>197.440002</td>\n",
              "      <td>193.589996</td>\n",
              "      <td>194.050003</td>\n",
              "      <td>171.877716</td>\n",
              "      <td>213436100</td>\n",
              "      <td>0.0</td>\n",
              "      <td>0</td>\n",
              "    </tr>\n",
              "    <tr>\n",
              "      <th>2016-01-08</th>\n",
              "      <td>195.190002</td>\n",
              "      <td>195.850006</td>\n",
              "      <td>191.580002</td>\n",
              "      <td>191.919998</td>\n",
              "      <td>169.991028</td>\n",
              "      <td>209817200</td>\n",
              "      <td>0.0</td>\n",
              "      <td>0</td>\n",
              "    </tr>\n",
              "  </tbody>\n",
              "</table>\n",
              "</div>\n",
              "      <button class=\"colab-df-convert\" onclick=\"convertToInteractive('df-d863cd50-5563-4456-b661-5056981de4e8')\"\n",
              "              title=\"Convert this dataframe to an interactive table.\"\n",
              "              style=\"display:none;\">\n",
              "        \n",
              "  <svg xmlns=\"http://www.w3.org/2000/svg\" height=\"24px\"viewBox=\"0 0 24 24\"\n",
              "       width=\"24px\">\n",
              "    <path d=\"M0 0h24v24H0V0z\" fill=\"none\"/>\n",
              "    <path d=\"M18.56 5.44l.94 2.06.94-2.06 2.06-.94-2.06-.94-.94-2.06-.94 2.06-2.06.94zm-11 1L8.5 8.5l.94-2.06 2.06-.94-2.06-.94L8.5 2.5l-.94 2.06-2.06.94zm10 10l.94 2.06.94-2.06 2.06-.94-2.06-.94-.94-2.06-.94 2.06-2.06.94z\"/><path d=\"M17.41 7.96l-1.37-1.37c-.4-.4-.92-.59-1.43-.59-.52 0-1.04.2-1.43.59L10.3 9.45l-7.72 7.72c-.78.78-.78 2.05 0 2.83L4 21.41c.39.39.9.59 1.41.59.51 0 1.02-.2 1.41-.59l7.78-7.78 2.81-2.81c.8-.78.8-2.07 0-2.86zM5.41 20L4 18.59l7.72-7.72 1.47 1.35L5.41 20z\"/>\n",
              "  </svg>\n",
              "      </button>\n",
              "      \n",
              "  <style>\n",
              "    .colab-df-container {\n",
              "      display:flex;\n",
              "      flex-wrap:wrap;\n",
              "      gap: 12px;\n",
              "    }\n",
              "\n",
              "    .colab-df-convert {\n",
              "      background-color: #E8F0FE;\n",
              "      border: none;\n",
              "      border-radius: 50%;\n",
              "      cursor: pointer;\n",
              "      display: none;\n",
              "      fill: #1967D2;\n",
              "      height: 32px;\n",
              "      padding: 0 0 0 0;\n",
              "      width: 32px;\n",
              "    }\n",
              "\n",
              "    .colab-df-convert:hover {\n",
              "      background-color: #E2EBFA;\n",
              "      box-shadow: 0px 1px 2px rgba(60, 64, 67, 0.3), 0px 1px 3px 1px rgba(60, 64, 67, 0.15);\n",
              "      fill: #174EA6;\n",
              "    }\n",
              "\n",
              "    [theme=dark] .colab-df-convert {\n",
              "      background-color: #3B4455;\n",
              "      fill: #D2E3FC;\n",
              "    }\n",
              "\n",
              "    [theme=dark] .colab-df-convert:hover {\n",
              "      background-color: #434B5C;\n",
              "      box-shadow: 0px 1px 3px 1px rgba(0, 0, 0, 0.15);\n",
              "      filter: drop-shadow(0px 1px 2px rgba(0, 0, 0, 0.3));\n",
              "      fill: #FFFFFF;\n",
              "    }\n",
              "  </style>\n",
              "\n",
              "      <script>\n",
              "        const buttonEl =\n",
              "          document.querySelector('#df-d863cd50-5563-4456-b661-5056981de4e8 button.colab-df-convert');\n",
              "        buttonEl.style.display =\n",
              "          google.colab.kernel.accessAllowed ? 'block' : 'none';\n",
              "\n",
              "        async function convertToInteractive(key) {\n",
              "          const element = document.querySelector('#df-d863cd50-5563-4456-b661-5056981de4e8');\n",
              "          const dataTable =\n",
              "            await google.colab.kernel.invokeFunction('convertToInteractive',\n",
              "                                                     [key], {});\n",
              "          if (!dataTable) return;\n",
              "\n",
              "          const docLinkHtml = 'Like what you see? Visit the ' +\n",
              "            '<a target=\"_blank\" href=https://colab.research.google.com/notebooks/data_table.ipynb>data table notebook</a>'\n",
              "            + ' to learn more about interactive tables.';\n",
              "          element.innerHTML = '';\n",
              "          dataTable['output_type'] = 'display_data';\n",
              "          await google.colab.output.renderOutput(dataTable, element);\n",
              "          const docLink = document.createElement('div');\n",
              "          docLink.innerHTML = docLinkHtml;\n",
              "          element.appendChild(docLink);\n",
              "        }\n",
              "      </script>\n",
              "    </div>\n",
              "  </div>\n",
              "  "
            ]
          },
          "metadata": {},
          "execution_count": 4
        }
      ]
    },
    {
      "cell_type": "markdown",
      "metadata": {
        "id": "PfBSKe1PDGQO"
      },
      "source": [
        "Where are the dividends? Since we are only looking at the head of the table (first five trading days) and as dividends for this ETF are usually paid just before quarter-end, we won't see any dividends in the head. \n",
        "\n",
        "We can take a look to check what dividends were paid in 2016, the following code slices the \"data\" dataframe in two different ways. First, it looks for rows where the dividends are not equal to zero and then it selects rows during the year 2016:"
      ]
    },
    {
      "cell_type": "code",
      "metadata": {
        "id": "8ZzGhY6mDMM5",
        "colab": {
          "base_uri": "https://localhost:8080/",
          "height": 206
        },
        "outputId": "2ae7665e-20ef-4c62-86ef-41a0ff3676e4"
      },
      "source": [
        "data[data['Dividends'] != 0 ].loc['2016']"
      ],
      "execution_count": 5,
      "outputs": [
        {
          "output_type": "execute_result",
          "data": {
            "text/plain": [
              "                  Open        High         Low       Close   Adj Close  \\\n",
              "Date                                                                     \n",
              "2016-03-18  204.169998  204.779999  203.800003  204.380005  181.961029   \n",
              "2016-06-17  207.169998  207.199997  205.750000  206.520004  184.822449   \n",
              "2016-09-16  213.479996  213.690002  212.570007  213.369995  191.917389   \n",
              "2016-12-16  226.009995  226.080002  224.669998  225.039993  203.607056   \n",
              "\n",
              "               Volume  Dividends  Stock Splits  \n",
              "Date                                            \n",
              "2016-03-18  138372400      1.050             0  \n",
              "2016-06-17  117055700      1.078             0  \n",
              "2016-09-16  155236400      1.082             0  \n",
              "2016-12-16  156420200      1.329             0  "
            ],
            "text/html": [
              "\n",
              "  <div id=\"df-6362b77f-cda7-424b-998f-97b95e845a51\">\n",
              "    <div class=\"colab-df-container\">\n",
              "      <div>\n",
              "<style scoped>\n",
              "    .dataframe tbody tr th:only-of-type {\n",
              "        vertical-align: middle;\n",
              "    }\n",
              "\n",
              "    .dataframe tbody tr th {\n",
              "        vertical-align: top;\n",
              "    }\n",
              "\n",
              "    .dataframe thead th {\n",
              "        text-align: right;\n",
              "    }\n",
              "</style>\n",
              "<table border=\"1\" class=\"dataframe\">\n",
              "  <thead>\n",
              "    <tr style=\"text-align: right;\">\n",
              "      <th></th>\n",
              "      <th>Open</th>\n",
              "      <th>High</th>\n",
              "      <th>Low</th>\n",
              "      <th>Close</th>\n",
              "      <th>Adj Close</th>\n",
              "      <th>Volume</th>\n",
              "      <th>Dividends</th>\n",
              "      <th>Stock Splits</th>\n",
              "    </tr>\n",
              "    <tr>\n",
              "      <th>Date</th>\n",
              "      <th></th>\n",
              "      <th></th>\n",
              "      <th></th>\n",
              "      <th></th>\n",
              "      <th></th>\n",
              "      <th></th>\n",
              "      <th></th>\n",
              "      <th></th>\n",
              "    </tr>\n",
              "  </thead>\n",
              "  <tbody>\n",
              "    <tr>\n",
              "      <th>2016-03-18</th>\n",
              "      <td>204.169998</td>\n",
              "      <td>204.779999</td>\n",
              "      <td>203.800003</td>\n",
              "      <td>204.380005</td>\n",
              "      <td>181.961029</td>\n",
              "      <td>138372400</td>\n",
              "      <td>1.050</td>\n",
              "      <td>0</td>\n",
              "    </tr>\n",
              "    <tr>\n",
              "      <th>2016-06-17</th>\n",
              "      <td>207.169998</td>\n",
              "      <td>207.199997</td>\n",
              "      <td>205.750000</td>\n",
              "      <td>206.520004</td>\n",
              "      <td>184.822449</td>\n",
              "      <td>117055700</td>\n",
              "      <td>1.078</td>\n",
              "      <td>0</td>\n",
              "    </tr>\n",
              "    <tr>\n",
              "      <th>2016-09-16</th>\n",
              "      <td>213.479996</td>\n",
              "      <td>213.690002</td>\n",
              "      <td>212.570007</td>\n",
              "      <td>213.369995</td>\n",
              "      <td>191.917389</td>\n",
              "      <td>155236400</td>\n",
              "      <td>1.082</td>\n",
              "      <td>0</td>\n",
              "    </tr>\n",
              "    <tr>\n",
              "      <th>2016-12-16</th>\n",
              "      <td>226.009995</td>\n",
              "      <td>226.080002</td>\n",
              "      <td>224.669998</td>\n",
              "      <td>225.039993</td>\n",
              "      <td>203.607056</td>\n",
              "      <td>156420200</td>\n",
              "      <td>1.329</td>\n",
              "      <td>0</td>\n",
              "    </tr>\n",
              "  </tbody>\n",
              "</table>\n",
              "</div>\n",
              "      <button class=\"colab-df-convert\" onclick=\"convertToInteractive('df-6362b77f-cda7-424b-998f-97b95e845a51')\"\n",
              "              title=\"Convert this dataframe to an interactive table.\"\n",
              "              style=\"display:none;\">\n",
              "        \n",
              "  <svg xmlns=\"http://www.w3.org/2000/svg\" height=\"24px\"viewBox=\"0 0 24 24\"\n",
              "       width=\"24px\">\n",
              "    <path d=\"M0 0h24v24H0V0z\" fill=\"none\"/>\n",
              "    <path d=\"M18.56 5.44l.94 2.06.94-2.06 2.06-.94-2.06-.94-.94-2.06-.94 2.06-2.06.94zm-11 1L8.5 8.5l.94-2.06 2.06-.94-2.06-.94L8.5 2.5l-.94 2.06-2.06.94zm10 10l.94 2.06.94-2.06 2.06-.94-2.06-.94-.94-2.06-.94 2.06-2.06.94z\"/><path d=\"M17.41 7.96l-1.37-1.37c-.4-.4-.92-.59-1.43-.59-.52 0-1.04.2-1.43.59L10.3 9.45l-7.72 7.72c-.78.78-.78 2.05 0 2.83L4 21.41c.39.39.9.59 1.41.59.51 0 1.02-.2 1.41-.59l7.78-7.78 2.81-2.81c.8-.78.8-2.07 0-2.86zM5.41 20L4 18.59l7.72-7.72 1.47 1.35L5.41 20z\"/>\n",
              "  </svg>\n",
              "      </button>\n",
              "      \n",
              "  <style>\n",
              "    .colab-df-container {\n",
              "      display:flex;\n",
              "      flex-wrap:wrap;\n",
              "      gap: 12px;\n",
              "    }\n",
              "\n",
              "    .colab-df-convert {\n",
              "      background-color: #E8F0FE;\n",
              "      border: none;\n",
              "      border-radius: 50%;\n",
              "      cursor: pointer;\n",
              "      display: none;\n",
              "      fill: #1967D2;\n",
              "      height: 32px;\n",
              "      padding: 0 0 0 0;\n",
              "      width: 32px;\n",
              "    }\n",
              "\n",
              "    .colab-df-convert:hover {\n",
              "      background-color: #E2EBFA;\n",
              "      box-shadow: 0px 1px 2px rgba(60, 64, 67, 0.3), 0px 1px 3px 1px rgba(60, 64, 67, 0.15);\n",
              "      fill: #174EA6;\n",
              "    }\n",
              "\n",
              "    [theme=dark] .colab-df-convert {\n",
              "      background-color: #3B4455;\n",
              "      fill: #D2E3FC;\n",
              "    }\n",
              "\n",
              "    [theme=dark] .colab-df-convert:hover {\n",
              "      background-color: #434B5C;\n",
              "      box-shadow: 0px 1px 3px 1px rgba(0, 0, 0, 0.15);\n",
              "      filter: drop-shadow(0px 1px 2px rgba(0, 0, 0, 0.3));\n",
              "      fill: #FFFFFF;\n",
              "    }\n",
              "  </style>\n",
              "\n",
              "      <script>\n",
              "        const buttonEl =\n",
              "          document.querySelector('#df-6362b77f-cda7-424b-998f-97b95e845a51 button.colab-df-convert');\n",
              "        buttonEl.style.display =\n",
              "          google.colab.kernel.accessAllowed ? 'block' : 'none';\n",
              "\n",
              "        async function convertToInteractive(key) {\n",
              "          const element = document.querySelector('#df-6362b77f-cda7-424b-998f-97b95e845a51');\n",
              "          const dataTable =\n",
              "            await google.colab.kernel.invokeFunction('convertToInteractive',\n",
              "                                                     [key], {});\n",
              "          if (!dataTable) return;\n",
              "\n",
              "          const docLinkHtml = 'Like what you see? Visit the ' +\n",
              "            '<a target=\"_blank\" href=https://colab.research.google.com/notebooks/data_table.ipynb>data table notebook</a>'\n",
              "            + ' to learn more about interactive tables.';\n",
              "          element.innerHTML = '';\n",
              "          dataTable['output_type'] = 'display_data';\n",
              "          await google.colab.output.renderOutput(dataTable, element);\n",
              "          const docLink = document.createElement('div');\n",
              "          docLink.innerHTML = docLinkHtml;\n",
              "          element.appendChild(docLink);\n",
              "        }\n",
              "      </script>\n",
              "    </div>\n",
              "  </div>\n",
              "  "
            ]
          },
          "metadata": {},
          "execution_count": 5
        }
      ]
    },
    {
      "cell_type": "markdown",
      "metadata": {
        "id": "TU4DaYRmJYD5"
      },
      "source": [
        "The SPY has had no stock splits as it is tracking an index and therefore, we can use the unadjusted close to compute the simple and log returns. For those unfamiliar with stock splits, see Investopedia's definition:\n",
        "\n",
        ">A stock split happens when a company increases the number of its shares to boost the stock's liquidity. Although the number of shares outstanding increases by a specific multiple, the total dollar value of all shares outstanding remains the same because a split does not fundamentally change the company's value.\n",
        "\n",
        "https://www.investopedia.com/terms/s/stocksplit.asp\n",
        "\n",
        "# Getting Started with Simple and Log Price Returns\n",
        "\n",
        "Lets get started with computing simple and log price returns! \n",
        "\n",
        "The key difference between the two lies in how they can be aggregated. Simple returns are used for aggregating across assets while log returns are used for aggregating across time. \n",
        "* The simple return of a portfolio consisting of multiple assets can be calculated by computing the weighted sum of the simple returns of the assets, where the weights are the portfolio weights. \n",
        "* While on the other hand, the log return of an asset over a time period can be computed by summing up the log returns of that asset over that given time period.\n",
        "\n",
        "These returns are transmutable:\n",
        "\n",
        "To go from simple to log:\n",
        "\n",
        "$ r = log(R + 1)$\n",
        "\n",
        "To go from log to simple:\n",
        "\n",
        "$ R = e^{r} – 1 $\n",
        "\n",
        "Where $R$ is simple return and $r$ is log return\n",
        "\n",
        "Let's start with simple returns.\n",
        "\n",
        "# Simple Price Return\n",
        "Simple price return is calculated in the following way:\n",
        "\n",
        "$ \\text{Simple Price Return} = \\dfrac{P_{t}}{P_{t-1}} - 1$\n",
        "\n",
        "Where $P$ is the price of the asset at time $t$ and $P_{t-1}$ is the price at time $t-1$\n",
        "\n",
        "Here are two ways to calculate simple returns, firstly by using the pct_change() function and secondly the shift() function.\n",
        "\n",
        "Let's start with the pct_change() function as it is more straightforward to use. Simply call the pct_change() function on the series. \n",
        "\n",
        "The dropna() function is used to drop N/A data point that occurs on the first observation in the percentage change series. This is because the pct_change() function seeks to calculate the simple return of the first observation despite there not being an observation before it."
      ]
    },
    {
      "cell_type": "code",
      "metadata": {
        "scrolled": true,
        "id": "_D1dv8t6JYD7",
        "colab": {
          "base_uri": "https://localhost:8080/"
        },
        "outputId": "0d20491c-55b2-4b6a-80ff-80674c09b36e"
      },
      "source": [
        "# Simple returns by pct_change(), drop first observation\n",
        "simp_ret_1 = data['Close'].pct_change().dropna()\n",
        "\n",
        "simp_ret_1.head()"
      ],
      "execution_count": 6,
      "outputs": [
        {
          "output_type": "execute_result",
          "data": {
            "text/plain": [
              "Date\n",
              "2016-01-05    0.001691\n",
              "2016-01-06   -0.012614\n",
              "2016-01-07   -0.023992\n",
              "2016-01-08   -0.010977\n",
              "2016-01-11    0.000990\n",
              "Name: Close, dtype: float64"
            ]
          },
          "metadata": {},
          "execution_count": 6
        }
      ]
    },
    {
      "cell_type": "markdown",
      "source": [
        "Now for the shift() function, which in this case takes the previous value of Close or $P_{t-1}$. Note that this method resembles exactly the equation: \n",
        "\n",
        "$ \\text{Simple Price Return} = \\dfrac{P_{t}}{P_{t-1}} - 1$\n"
      ],
      "metadata": {
        "id": "YQhcKU31y2ja"
      }
    },
    {
      "cell_type": "code",
      "source": [
        "# Simple returns by shift(), drop first observation\n",
        "simp_ret_2 = (data['Close'] / data['Close'].shift(1) -1).dropna()\n",
        "\n",
        "simp_ret_2.head()"
      ],
      "metadata": {
        "colab": {
          "base_uri": "https://localhost:8080/"
        },
        "id": "KlWR0qX3y4GY",
        "outputId": "a12bf5a4-b666-4f9c-c299-a0916bbcf643"
      },
      "execution_count": 7,
      "outputs": [
        {
          "output_type": "execute_result",
          "data": {
            "text/plain": [
              "Date\n",
              "2016-01-05    0.001691\n",
              "2016-01-06   -0.012614\n",
              "2016-01-07   -0.023992\n",
              "2016-01-08   -0.010977\n",
              "2016-01-11    0.000990\n",
              "Name: Close, dtype: float64"
            ]
          },
          "metadata": {},
          "execution_count": 7
        }
      ]
    },
    {
      "cell_type": "markdown",
      "metadata": {
        "id": "nJnVaZPgJYEB"
      },
      "source": [
        "Let's verify that the two simple returns series are completely identical by using the compare() function, this function takes another series or dataframe as the first argument and shows the values that are different. In this case, the values are idential and invoking the function returns no values."
      ]
    },
    {
      "cell_type": "code",
      "metadata": {
        "id": "iSBfI19-JYEC",
        "colab": {
          "base_uri": "https://localhost:8080/"
        },
        "outputId": "9c8fd31a-f5a7-4121-8c8c-4da23200ad8c"
      },
      "source": [
        "# Find the difference between the two simple returns series\n",
        "simp_ret_1.compare(simp_ret_2, align_axis = 0)"
      ],
      "execution_count": 8,
      "outputs": [
        {
          "output_type": "execute_result",
          "data": {
            "text/plain": [
              "Series([], Name: Close, dtype: float64)"
            ]
          },
          "metadata": {},
          "execution_count": 8
        }
      ]
    },
    {
      "cell_type": "markdown",
      "metadata": {
        "id": "RVDQwM7jJYEI"
      },
      "source": [
        "# Log Price Return\n",
        "\n",
        "Log price return is calculated as follows:\n",
        "\n",
        "$ \\text {Log Price Return} = \\ln( \\dfrac{P_{t}}{P_{t-1}}) = \\ln (P_{t}) - \\ln (P_{t-1}) $\n",
        "\n",
        "Due to the quotient rule property of logarithims, log price returns can be computed by subtracting the logarithim of the current period's price by the logarithim of the previous period's price. It can be clearly seen that log  and simple price returns are slightly different by again invoking the compare() function."
      ]
    },
    {
      "cell_type": "code",
      "metadata": {
        "id": "1rjwL2DoJYEO",
        "colab": {
          "base_uri": "https://localhost:8080/"
        },
        "outputId": "4456c22d-c169-48b7-906e-52a05f3d865f"
      },
      "source": [
        "log_ret = (np.log(data['Close']) - np.log(data['Close'].shift(1))).dropna()\n",
        "log_ret.compare(simp_ret_1, align_axis = 0)"
      ],
      "execution_count": 9,
      "outputs": [
        {
          "output_type": "execute_result",
          "data": {
            "text/plain": [
              "Date             \n",
              "2016-01-05  self     0.001690\n",
              "            other    0.001691\n",
              "2016-01-06  self    -0.012694\n",
              "            other   -0.012614\n",
              "2016-01-07  self    -0.024284\n",
              "                       ...   \n",
              "2019-12-26  other    0.005323\n",
              "2019-12-27  self    -0.000248\n",
              "            other   -0.000248\n",
              "2019-12-30  self    -0.005528\n",
              "            other   -0.005513\n",
              "Name: Close, Length: 2000, dtype: float64"
            ]
          },
          "metadata": {},
          "execution_count": 9
        }
      ]
    },
    {
      "cell_type": "markdown",
      "metadata": {
        "id": "zEpS_ISOJYES"
      },
      "source": [
        "Next, let's calculate the cumulative return of both price return series and graph them for comparison. The cumulative return is the total change in a security's price over a given time period. It can be calculated as follows:\n",
        "\n",
        "$ \\text {Cumulative Return} = (\\dfrac{P_{t}- P_{1}}{P_{1}})$\n",
        "\n",
        "Where $P_{t}$ is the price at given time $t$ and  $P_{1}$ is the price at the time of purchase\n",
        "\n",
        "However, the cumulative return can also be calculated by finding the cumulative product of the daily returns up to desired time $t$. This method allows us to easily graph the cumulative returns.\n",
        "\n",
        "Using the cumprod() function, one can calculate the cumulative product of the series of daily returns where:\n",
        "\n",
        "$ \\text {Cumulative Return} = (1+R_{1})(1+R_{2})...(1+R_{t-1})(1+R_{t})$ \n",
        "\n",
        "Where $R_{t}$ is the return of the security at given time period $t$"
      ]
    },
    {
      "cell_type": "code",
      "metadata": {
        "id": "Y5J1-KM1JYET"
      },
      "source": [
        "# Calculate cumulative product to get the cumulative return series\n",
        "cumu_log_ret = (1 + log_ret).cumprod()\n",
        "cumu_simp_ret = (1 + simp_ret_1).cumprod()"
      ],
      "execution_count": 10,
      "outputs": []
    },
    {
      "cell_type": "markdown",
      "source": [
        "Now let's plot the two series using the matplotlib package: \n",
        " \n",
        "1.   Define the graph as fig1 using the plt.figure() function. \n",
        "2.   Define the dimensions of the axes using a list of four arguments: [xmin, ymin, dx, dy] where: \n",
        "    *   yxmin: Horizontal coordinate of the lower left corner.\n",
        "    *   ymin: Vertical coordinate of the lower left corner.\n",
        "    *   dx: Width of the subplot.\n",
        "    *   dy: Height of the subplot.\n",
        "3. Plot the simple and logarithmic cumulative returns and give them a label\n",
        "4. Give the X and Y axis titles\n",
        "5. Name your graph\n",
        "6. Enable the legend\n",
        "7. Show your finished plot!"
      ],
      "metadata": {
        "id": "Imu0odSgHna-"
      }
    },
    {
      "cell_type": "code",
      "source": [
        "# Plot two series on same graph\n",
        "fig1 = plt.figure()\n",
        "ax1 = fig1.add_axes([0.1,0.1,1.5,1.5])\n",
        "ax1.plot(cumu_simp_ret, label = 'Simple Return')\n",
        "ax1.plot(cumu_log_ret, label = 'Log Return')\n",
        "ax1.set_xlabel('Date')\n",
        "ax1.set_ylabel(\"Cumulative Returns\")\n",
        "ax1.set_title(\"SPY Cumulative Returns\")\n",
        "ax1.legend()\n",
        "plt.show()"
      ],
      "metadata": {
        "colab": {
          "base_uri": "https://localhost:8080/",
          "height": 523
        },
        "id": "FmDScH7JHnND",
        "outputId": "5fb26a81-0a76-4a16-8e57-e12bbb1b214f"
      },
      "execution_count": 11,
      "outputs": [
        {
          "output_type": "display_data",
          "data": {
            "text/plain": [
              "<Figure size 432x288 with 1 Axes>"
            ],
            "image/png": "[encoded data removed]"
          },
          "metadata": {}
        }
      ]
    },
    {
      "cell_type": "markdown",
      "metadata": {
        "id": "XPxQrxAwJYEX"
      },
      "source": [
        "We can see that simple returns are always greater than the log returns. This relationship is decribed by the PortfolioProbe blog:\n",
        "\n",
        ">You can remember which is smaller because the smallest possible simple return is -100%, that is minus infinity for the log return.\n",
        "\n",
        "For more information about the difference between simple and log returns, check out the rest of the post: https://www.portfolioprobe.com/2010/10/04/a-tale-of-two-returns/\n",
        "\n",
        "# Total Returns\n",
        "\n",
        "Finally, let's move onto the computation of total returns. As mentioned earlier, dividends are included in total returns, but ignored in price returns. Another point to raise is that total returns can be calculated as log returns or as simple returns, and the key about total returns is that dividends are included.\n",
        "\n",
        "Here is how total return is computed: \n",
        "\n",
        "$ \\text{Simple Total Return} = \\dfrac{P_{t}+D_{t}} {P_{t-1}} - 1$\n",
        "\n",
        "\n",
        "$ \\text {Log Total Return} = \\ln( \\dfrac{P_{t} + D_{t}}{P_{t-1}}) = \\ln (P_{t} + D_{t}) - \\ln (P_{t-1}) $\n",
        "\n",
        "Where $D_{t}$ are the dividends paid at time $t$\n",
        "\n",
        "Note that $P_{t} \\text { and }  D_{t}$ are kept together in the logarithm function as not every period has dividends and since $ \\ln(0) $ is undefined, separating them will cause errors.\n",
        "\n",
        "\n",
        "\n",
        "# Daily Simple Total Returns\n",
        "\n",
        "Let's start with simple total returns. It is as easy as adding dividends to the numerator using the shift() method of computing simple returns. Then, we will compare the cumulative simple total returns to the regular cumulative simple returns by graphing the two series using the tricks we learned earlier."
      ]
    },
    {
      "cell_type": "code",
      "metadata": {
        "id": "UbFCN3I1JYEZ",
        "colab": {
          "base_uri": "https://localhost:8080/",
          "height": 523
        },
        "outputId": "c1fbb5b0-6d52-4ca1-c005-f69c45778f40"
      },
      "source": [
        "simp_total_ret = ((data['Close'] + data['Dividends'])/data['Close'].shift(1) -1).dropna()\n",
        "\n",
        "cumu_simp_total_ret = (1 + simp_total_ret).cumprod()\n",
        "\n",
        "fig3 = plt.figure()\n",
        "ax3 = fig3.add_axes([0.1,0.1,1.5,1.5])\n",
        "ax3.plot(cumu_simp_ret, label = 'Simple Return')\n",
        "ax3.plot(cumu_simp_total_ret, label = 'Simple Total Return')\n",
        "ax3.set_xlabel('Date')\n",
        "ax3.set_ylabel(\"Cumulative Returns\")\n",
        "ax3.set_title(\"SPY Simple Cumulative Returns\")\n",
        "ax3.legend()\n",
        "plt.show()"
      ],
      "execution_count": 12,
      "outputs": [
        {
          "output_type": "display_data",
          "data": {
            "text/plain": [
              "<Figure size 432x288 with 1 Axes>"
            ],
            "image/png": "[encoded data removed]"
          },
          "metadata": {}
        }
      ]
    },
    {
      "cell_type": "markdown",
      "source": [
        "The incorporation of the dividends into the returns has an obvious  effect. The cumulative return is over 10% higher for the total simple return series. The tail() function is the counter to the head function, by default showing the last 5 observations of a dataframe or series. By adding 1 as the argument, the function shows the last observation only."
      ],
      "metadata": {
        "id": "LPKuCMhCOu98"
      }
    },
    {
      "cell_type": "code",
      "source": [
        "cumu_simp_total_ret.tail(1) - cumu_simp_ret.tail(1)"
      ],
      "metadata": {
        "colab": {
          "base_uri": "https://localhost:8080/"
        },
        "id": "gxoESPkFNfp8",
        "outputId": "da8a2793-3175-4634-ab72-a819772dc748"
      },
      "execution_count": 13,
      "outputs": [
        {
          "output_type": "execute_result",
          "data": {
            "text/plain": [
              "Date\n",
              "2019-12-30    0.129881\n",
              "dtype: float64"
            ]
          },
          "metadata": {},
          "execution_count": 13
        }
      ]
    },
    {
      "cell_type": "markdown",
      "metadata": {
        "id": "TeqAvr6wJYEc"
      },
      "source": [
        "\n",
        "# Daily Log Total Returns\n",
        "\n",
        "Now, let's move onto log total returns. Their calculation follows a similar process as the log price returns but the dividends are added to the first logarithm function. Like we did with the simple returns, we will also graph the two series."
      ]
    },
    {
      "cell_type": "code",
      "metadata": {
        "id": "CldSa9whJYEe",
        "colab": {
          "base_uri": "https://localhost:8080/",
          "height": 523
        },
        "outputId": "cc05e78f-730d-4946-d9a8-de099c519678"
      },
      "source": [
        "log_total_ret = (np.log(data['Close'] + data['Dividends']) - np.log(data['Close'].shift(1))).dropna()\n",
        "\n",
        "cumu_log_total_ret = (1 + log_total_ret).cumprod()\n",
        "\n",
        "fig4 = plt.figure()\n",
        "ax4 = fig4.add_axes([0.1,0.1,1.5,1.5])\n",
        "ax4.plot(cumu_log_ret, label = 'Log Return')\n",
        "ax4.plot(cumu_log_total_ret, label = 'Log Total Return')\n",
        "ax4.set_xlabel('Date')\n",
        "ax4.set_ylabel(\"Cumulative Returns\")\n",
        "ax4.set_title(\"SPY Log Cumulative Returns\")\n",
        "ax4.legend()\n",
        "plt.show()"
      ],
      "execution_count": 14,
      "outputs": [
        {
          "output_type": "display_data",
          "data": {
            "text/plain": [
              "<Figure size 432x288 with 1 Axes>"
            ],
            "image/png": "[encoded data removed]"
          },
          "metadata": {}
        }
      ]
    },
    {
      "cell_type": "markdown",
      "source": [
        "Once again, adding dividend income to the returns leads to a higher return of around 10%."
      ],
      "metadata": {
        "id": "ymeCgZoMQEHj"
      }
    },
    {
      "cell_type": "code",
      "source": [
        "cumu_log_total_ret.tail(1)-cumu_log_ret.tail(1)"
      ],
      "metadata": {
        "colab": {
          "base_uri": "https://localhost:8080/"
        },
        "id": "09sxgfW_P63K",
        "outputId": "3d12fb31-56be-4eae-84e6-f7573ba20873"
      },
      "execution_count": 15,
      "outputs": [
        {
          "output_type": "execute_result",
          "data": {
            "text/plain": [
              "Date\n",
              "2019-12-30    0.126091\n",
              "dtype: float64"
            ]
          },
          "metadata": {},
          "execution_count": 15
        }
      ]
    },
    {
      "cell_type": "markdown",
      "metadata": {
        "id": "N-UxulHLJYEi"
      },
      "source": [
        "\n",
        "But what if we want to see total return for a certain time period? Daily total return is not a very useful statistic as dividends are only paid a few times a year, nor is it useful for portfolio construction or backtesting, as portfolio weights are essentially never rebalanced daily.\n",
        "\n",
        "# Annual Total Return\n",
        "\n",
        "We will use the resample() function in order to calculate periodic total return. The resample() function is used to resample time series data, in this case we will be resampling the trading day data into annual data with the 'A' argument and applying an additional function to it.\n",
        "\n",
        "The dividends for a given year are summed up using the sum() function. While the year-end closing price is derived using the agg() function which will assign the latest available date in a year as the last day of the year. Note that if you include data from a year that is not complete, the year end value will thus be from the last available date.\n",
        "\n",
        "After resampling, we will calculate total return as explained in the sections above"
      ]
    },
    {
      "cell_type": "code",
      "metadata": {
        "id": "wVQk4fx9JYEj"
      },
      "source": [
        "# Sum dividends for each year and assign to annual_div\n",
        "annual_div = data['Dividends'].resample('A').sum()\n",
        "# Assign last trading date available to annual_close\n",
        "annual_close = data['Close'].resample('A').agg(lambda x: x[-1])\n",
        "# Calculate annual total return\n",
        "annual_total_simp_ret = ((annual_div + annual_close)/annual_close.shift(1) - 1).dropna()\n",
        "annual_total_log_ret = (np.log(annual_div + annual_close) - np.log(annual_close.shift(1))).dropna()"
      ],
      "execution_count": 16,
      "outputs": []
    },
    {
      "cell_type": "markdown",
      "metadata": {
        "id": "hXSjjNo7JYEo"
      },
      "source": [
        "Let's compare the annual total returns series to the annual price returns series:"
      ]
    },
    {
      "cell_type": "code",
      "metadata": {
        "id": "QyREGtQNJYEp",
        "colab": {
          "base_uri": "https://localhost:8080/",
          "height": 175
        },
        "outputId": "9767320c-b985-4014-b3a4-65a1517090c7"
      },
      "source": [
        "# Calculate annual price return\n",
        "annual_simp_ret = (annual_close.pct_change()).dropna()\n",
        "annual_log_ret = (np.log(annual_close) - np.log(annual_close.shift(1))).dropna()\n",
        "\n",
        "# Create dataframe with 4 return series \n",
        "annual_ret_combined = pd.concat([annual_total_simp_ret, annual_simp_ret, annual_total_log_ret, annual_log_ret], axis=1)\n",
        "annual_ret_combined.columns = ['Total Simple Return', 'Simple Price Return', 'Total Log Return', 'Log Price Return']\n",
        "\n",
        "annual_ret_combined"
      ],
      "execution_count": 17,
      "outputs": [
        {
          "output_type": "execute_result",
          "data": {
            "text/plain": [
              "            Total Simple Return  Simple Price Return  Total Log Return  \\\n",
              "Date                                                                     \n",
              "2017-12-31             0.215327             0.193844          0.195013   \n",
              "2018-12-31            -0.044364            -0.063479         -0.045378   \n",
              "2019-12-31             0.307214             0.284731          0.267898   \n",
              "\n",
              "            Log Price Return  \n",
              "Date                          \n",
              "2017-12-31          0.177178  \n",
              "2018-12-31         -0.065583  \n",
              "2019-12-31          0.250549  "
            ],
            "text/html": [
              "\n",
              "  <div id=\"df-0fc7358b-5e4a-45b7-a1bb-f21e3a08d97d\">\n",
              "    <div class=\"colab-df-container\">\n",
              "      <div>\n",
              "<style scoped>\n",
              "    .dataframe tbody tr th:only-of-type {\n",
              "        vertical-align: middle;\n",
              "    }\n",
              "\n",
              "    .dataframe tbody tr th {\n",
              "        vertical-align: top;\n",
              "    }\n",
              "\n",
              "    .dataframe thead th {\n",
              "        text-align: right;\n",
              "    }\n",
              "</style>\n",
              "<table border=\"1\" class=\"dataframe\">\n",
              "  <thead>\n",
              "    <tr style=\"text-align: right;\">\n",
              "      <th></th>\n",
              "      <th>Total Simple Return</th>\n",
              "      <th>Simple Price Return</th>\n",
              "      <th>Total Log Return</th>\n",
              "      <th>Log Price Return</th>\n",
              "    </tr>\n",
              "    <tr>\n",
              "      <th>Date</th>\n",
              "      <th></th>\n",
              "      <th></th>\n",
              "      <th></th>\n",
              "      <th></th>\n",
              "    </tr>\n",
              "  </thead>\n",
              "  <tbody>\n",
              "    <tr>\n",
              "      <th>2017-12-31</th>\n",
              "      <td>0.215327</td>\n",
              "      <td>0.193844</td>\n",
              "      <td>0.195013</td>\n",
              "      <td>0.177178</td>\n",
              "    </tr>\n",
              "    <tr>\n",
              "      <th>2018-12-31</th>\n",
              "      <td>-0.044364</td>\n",
              "      <td>-0.063479</td>\n",
              "      <td>-0.045378</td>\n",
              "      <td>-0.065583</td>\n",
              "    </tr>\n",
              "    <tr>\n",
              "      <th>2019-12-31</th>\n",
              "      <td>0.307214</td>\n",
              "      <td>0.284731</td>\n",
              "      <td>0.267898</td>\n",
              "      <td>0.250549</td>\n",
              "    </tr>\n",
              "  </tbody>\n",
              "</table>\n",
              "</div>\n",
              "      <button class=\"colab-df-convert\" onclick=\"convertToInteractive('df-0fc7358b-5e4a-45b7-a1bb-f21e3a08d97d')\"\n",
              "              title=\"Convert this dataframe to an interactive table.\"\n",
              "              style=\"display:none;\">\n",
              "        \n",
              "  <svg xmlns=\"http://www.w3.org/2000/svg\" height=\"24px\"viewBox=\"0 0 24 24\"\n",
              "       width=\"24px\">\n",
              "    <path d=\"M0 0h24v24H0V0z\" fill=\"none\"/>\n",
              "    <path d=\"M18.56 5.44l.94 2.06.94-2.06 2.06-.94-2.06-.94-.94-2.06-.94 2.06-2.06.94zm-11 1L8.5 8.5l.94-2.06 2.06-.94-2.06-.94L8.5 2.5l-.94 2.06-2.06.94zm10 10l.94 2.06.94-2.06 2.06-.94-2.06-.94-.94-2.06-.94 2.06-2.06.94z\"/><path d=\"M17.41 7.96l-1.37-1.37c-.4-.4-.92-.59-1.43-.59-.52 0-1.04.2-1.43.59L10.3 9.45l-7.72 7.72c-.78.78-.78 2.05 0 2.83L4 21.41c.39.39.9.59 1.41.59.51 0 1.02-.2 1.41-.59l7.78-7.78 2.81-2.81c.8-.78.8-2.07 0-2.86zM5.41 20L4 18.59l7.72-7.72 1.47 1.35L5.41 20z\"/>\n",
              "  </svg>\n",
              "      </button>\n",
              "      \n",
              "  <style>\n",
              "    .colab-df-container {\n",
              "      display:flex;\n",
              "      flex-wrap:wrap;\n",
              "      gap: 12px;\n",
              "    }\n",
              "\n",
              "    .colab-df-convert {\n",
              "      background-color: #E8F0FE;\n",
              "      border: none;\n",
              "      border-radius: 50%;\n",
              "      cursor: pointer;\n",
              "      display: none;\n",
              "      fill: #1967D2;\n",
              "      height: 32px;\n",
              "      padding: 0 0 0 0;\n",
              "      width: 32px;\n",
              "    }\n",
              "\n",
              "    .colab-df-convert:hover {\n",
              "      background-color: #E2EBFA;\n",
              "      box-shadow: 0px 1px 2px rgba(60, 64, 67, 0.3), 0px 1px 3px 1px rgba(60, 64, 67, 0.15);\n",
              "      fill: #174EA6;\n",
              "    }\n",
              "\n",
              "    [theme=dark] .colab-df-convert {\n",
              "      background-color: #3B4455;\n",
              "      fill: #D2E3FC;\n",
              "    }\n",
              "\n",
              "    [theme=dark] .colab-df-convert:hover {\n",
              "      background-color: #434B5C;\n",
              "      box-shadow: 0px 1px 3px 1px rgba(0, 0, 0, 0.15);\n",
              "      filter: drop-shadow(0px 1px 2px rgba(0, 0, 0, 0.3));\n",
              "      fill: #FFFFFF;\n",
              "    }\n",
              "  </style>\n",
              "\n",
              "      <script>\n",
              "        const buttonEl =\n",
              "          document.querySelector('#df-0fc7358b-5e4a-45b7-a1bb-f21e3a08d97d button.colab-df-convert');\n",
              "        buttonEl.style.display =\n",
              "          google.colab.kernel.accessAllowed ? 'block' : 'none';\n",
              "\n",
              "        async function convertToInteractive(key) {\n",
              "          const element = document.querySelector('#df-0fc7358b-5e4a-45b7-a1bb-f21e3a08d97d');\n",
              "          const dataTable =\n",
              "            await google.colab.kernel.invokeFunction('convertToInteractive',\n",
              "                                                     [key], {});\n",
              "          if (!dataTable) return;\n",
              "\n",
              "          const docLinkHtml = 'Like what you see? Visit the ' +\n",
              "            '<a target=\"_blank\" href=https://colab.research.google.com/notebooks/data_table.ipynb>data table notebook</a>'\n",
              "            + ' to learn more about interactive tables.';\n",
              "          element.innerHTML = '';\n",
              "          dataTable['output_type'] = 'display_data';\n",
              "          await google.colab.output.renderOutput(dataTable, element);\n",
              "          const docLink = document.createElement('div');\n",
              "          docLink.innerHTML = docLinkHtml;\n",
              "          element.appendChild(docLink);\n",
              "        }\n",
              "      </script>\n",
              "    </div>\n",
              "  </div>\n",
              "  "
            ]
          },
          "metadata": {},
          "execution_count": 17
        }
      ]
    },
    {
      "cell_type": "markdown",
      "metadata": {
        "id": "RAncx83pJYEs"
      },
      "source": [
        "Here, a clear pattern emerges. Total simple returns are the highest and log price returns are the lowest.\n",
        "\n",
        "# Quarterly Total Return\n",
        "\n",
        "Now for auarterly total return. Simply change the 'A' in the resample() function to a 'Q' for quarterly. Similar to the annual resamping, the resample function will take the latest available value in the quarter as the end of quarter value. Keep this in mind when dealing with data where quarter months are not available."
      ]
    },
    {
      "cell_type": "code",
      "metadata": {
        "id": "xjGdO1lDJYEt"
      },
      "source": [
        "quarterly_div = data['Dividends'].resample('Q').sum()\n",
        "quarterly_close = data['Close'].resample('Q').agg(lambda x: x[-1])\n",
        "\n",
        "quarterly_total_simp_ret = ((quarterly_div + quarterly_close)/quarterly_close.shift(1) - 1).dropna()\n",
        "quarterly_total_log_ret = (np.log(quarterly_div + quarterly_close) - np.log(quarterly_close.shift(1))).dropna()\n",
        "quarterly_simp_ret = (quarterly_close.pct_change()).dropna()\n",
        "quarterly_log_ret = (np.log(quarterly_close) - np.log(quarterly_close.shift(1))).dropna()"
      ],
      "execution_count": 18,
      "outputs": []
    },
    {
      "cell_type": "markdown",
      "metadata": {
        "id": "5sJe_Kp7JYEy"
      },
      "source": [
        "Again, let's compare the results."
      ]
    },
    {
      "cell_type": "code",
      "metadata": {
        "id": "nBZbo2RHJYEy",
        "colab": {
          "base_uri": "https://localhost:8080/",
          "height": 551
        },
        "outputId": "075600d2-d6e6-4274-aa21-443a41629f85"
      },
      "source": [
        "# Create dataframe with 4 return series \n",
        "quarterly_ret_combined = pd.concat([quarterly_total_simp_ret, quarterly_simp_ret, quarterly_total_log_ret, quarterly_log_ret], axis=1)\n",
        "quarterly_ret_combined.columns = ['Total Simple Return', 'Simple Price Return', 'Total Log Return', 'Log Price Return']\n",
        "\n",
        "quarterly_ret_combined"
      ],
      "execution_count": 19,
      "outputs": [
        {
          "output_type": "execute_result",
          "data": {
            "text/plain": [
              "            Total Simple Return  Simple Price Return  Total Log Return  \\\n",
              "Date                                                                     \n",
              "2016-06-30             0.024513             0.019268          0.024218   \n",
              "2016-09-30             0.037722             0.032557          0.037028   \n",
              "2016-12-31             0.039570             0.033426          0.038807   \n",
              "2017-03-31             0.059245             0.054624          0.057556   \n",
              "2017-06-30             0.030725             0.025706          0.030262   \n",
              "2017-09-30             0.044107             0.038999          0.043162   \n",
              "2017-12-31             0.067591             0.062214          0.065405   \n",
              "2018-03-31            -0.009792            -0.013902         -0.009840   \n",
              "2018-06-30             0.035630             0.030895          0.035010   \n",
              "2018-09-30             0.076537             0.071660          0.073750   \n",
              "2018-12-31            -0.135405            -0.140341         -0.145494   \n",
              "2019-03-31             0.135215             0.130282          0.126822   \n",
              "2019-06-30             0.042311             0.037242          0.041440   \n",
              "2019-09-30             0.017590             0.012867          0.017437   \n",
              "2019-12-31             0.087206             0.081915          0.083611   \n",
              "\n",
              "            Log Price Return  \n",
              "Date                          \n",
              "2016-06-30          0.019085  \n",
              "2016-09-30          0.032038  \n",
              "2016-12-31          0.032879  \n",
              "2017-03-31          0.053184  \n",
              "2017-06-30          0.025381  \n",
              "2017-09-30          0.038258  \n",
              "2017-12-31          0.060355  \n",
              "2018-03-31         -0.014000  \n",
              "2018-06-30          0.030427  \n",
              "2018-09-30          0.069209  \n",
              "2018-12-31         -0.151220  \n",
              "2019-03-31          0.122467  \n",
              "2019-06-30          0.036565  \n",
              "2019-09-30          0.012785  \n",
              "2019-12-31          0.078733  "
            ],
            "text/html": [
              "\n",
              "  <div id=\"df-06dbac95-8fab-4426-8c39-3a7f44bedf60\">\n",
              "    <div class=\"colab-df-container\">\n",
              "      <div>\n",
              "<style scoped>\n",
              "    .dataframe tbody tr th:only-of-type {\n",
              "        vertical-align: middle;\n",
              "    }\n",
              "\n",
              "    .dataframe tbody tr th {\n",
              "        vertical-align: top;\n",
              "    }\n",
              "\n",
              "    .dataframe thead th {\n",
              "        text-align: right;\n",
              "    }\n",
              "</style>\n",
              "<table border=\"1\" class=\"dataframe\">\n",
              "  <thead>\n",
              "    <tr style=\"text-align: right;\">\n",
              "      <th></th>\n",
              "      <th>Total Simple Return</th>\n",
              "      <th>Simple Price Return</th>\n",
              "      <th>Total Log Return</th>\n",
              "      <th>Log Price Return</th>\n",
              "    </tr>\n",
              "    <tr>\n",
              "      <th>Date</th>\n",
              "      <th></th>\n",
              "      <th></th>\n",
              "      <th></th>\n",
              "      <th></th>\n",
              "    </tr>\n",
              "  </thead>\n",
              "  <tbody>\n",
              "    <tr>\n",
              "      <th>2016-06-30</th>\n",
              "      <td>0.024513</td>\n",
              "      <td>0.019268</td>\n",
              "      <td>0.024218</td>\n",
              "      <td>0.019085</td>\n",
              "    </tr>\n",
              "    <tr>\n",
              "      <th>2016-09-30</th>\n",
              "      <td>0.037722</td>\n",
              "      <td>0.032557</td>\n",
              "      <td>0.037028</td>\n",
              "      <td>0.032038</td>\n",
              "    </tr>\n",
              "    <tr>\n",
              "      <th>2016-12-31</th>\n",
              "      <td>0.039570</td>\n",
              "      <td>0.033426</td>\n",
              "      <td>0.038807</td>\n",
              "      <td>0.032879</td>\n",
              "    </tr>\n",
              "    <tr>\n",
              "      <th>2017-03-31</th>\n",
              "      <td>0.059245</td>\n",
              "      <td>0.054624</td>\n",
              "      <td>0.057556</td>\n",
              "      <td>0.053184</td>\n",
              "    </tr>\n",
              "    <tr>\n",
              "      <th>2017-06-30</th>\n",
              "      <td>0.030725</td>\n",
              "      <td>0.025706</td>\n",
              "      <td>0.030262</td>\n",
              "      <td>0.025381</td>\n",
              "    </tr>\n",
              "    <tr>\n",
              "      <th>2017-09-30</th>\n",
              "      <td>0.044107</td>\n",
              "      <td>0.038999</td>\n",
              "      <td>0.043162</td>\n",
              "      <td>0.038258</td>\n",
              "    </tr>\n",
              "    <tr>\n",
              "      <th>2017-12-31</th>\n",
              "      <td>0.067591</td>\n",
              "      <td>0.062214</td>\n",
              "      <td>0.065405</td>\n",
              "      <td>0.060355</td>\n",
              "    </tr>\n",
              "    <tr>\n",
              "      <th>2018-03-31</th>\n",
              "      <td>-0.009792</td>\n",
              "      <td>-0.013902</td>\n",
              "      <td>-0.009840</td>\n",
              "      <td>-0.014000</td>\n",
              "    </tr>\n",
              "    <tr>\n",
              "      <th>2018-06-30</th>\n",
              "      <td>0.035630</td>\n",
              "      <td>0.030895</td>\n",
              "      <td>0.035010</td>\n",
              "      <td>0.030427</td>\n",
              "    </tr>\n",
              "    <tr>\n",
              "      <th>2018-09-30</th>\n",
              "      <td>0.076537</td>\n",
              "      <td>0.071660</td>\n",
              "      <td>0.073750</td>\n",
              "      <td>0.069209</td>\n",
              "    </tr>\n",
              "    <tr>\n",
              "      <th>2018-12-31</th>\n",
              "      <td>-0.135405</td>\n",
              "      <td>-0.140341</td>\n",
              "      <td>-0.145494</td>\n",
              "      <td>-0.151220</td>\n",
              "    </tr>\n",
              "    <tr>\n",
              "      <th>2019-03-31</th>\n",
              "      <td>0.135215</td>\n",
              "      <td>0.130282</td>\n",
              "      <td>0.126822</td>\n",
              "      <td>0.122467</td>\n",
              "    </tr>\n",
              "    <tr>\n",
              "      <th>2019-06-30</th>\n",
              "      <td>0.042311</td>\n",
              "      <td>0.037242</td>\n",
              "      <td>0.041440</td>\n",
              "      <td>0.036565</td>\n",
              "    </tr>\n",
              "    <tr>\n",
              "      <th>2019-09-30</th>\n",
              "      <td>0.017590</td>\n",
              "      <td>0.012867</td>\n",
              "      <td>0.017437</td>\n",
              "      <td>0.012785</td>\n",
              "    </tr>\n",
              "    <tr>\n",
              "      <th>2019-12-31</th>\n",
              "      <td>0.087206</td>\n",
              "      <td>0.081915</td>\n",
              "      <td>0.083611</td>\n",
              "      <td>0.078733</td>\n",
              "    </tr>\n",
              "  </tbody>\n",
              "</table>\n",
              "</div>\n",
              "      <button class=\"colab-df-convert\" onclick=\"convertToInteractive('df-06dbac95-8fab-4426-8c39-3a7f44bedf60')\"\n",
              "              title=\"Convert this dataframe to an interactive table.\"\n",
              "              style=\"display:none;\">\n",
              "        \n",
              "  <svg xmlns=\"http://www.w3.org/2000/svg\" height=\"24px\"viewBox=\"0 0 24 24\"\n",
              "       width=\"24px\">\n",
              "    <path d=\"M0 0h24v24H0V0z\" fill=\"none\"/>\n",
              "    <path d=\"M18.56 5.44l.94 2.06.94-2.06 2.06-.94-2.06-.94-.94-2.06-.94 2.06-2.06.94zm-11 1L8.5 8.5l.94-2.06 2.06-.94-2.06-.94L8.5 2.5l-.94 2.06-2.06.94zm10 10l.94 2.06.94-2.06 2.06-.94-2.06-.94-.94-2.06-.94 2.06-2.06.94z\"/><path d=\"M17.41 7.96l-1.37-1.37c-.4-.4-.92-.59-1.43-.59-.52 0-1.04.2-1.43.59L10.3 9.45l-7.72 7.72c-.78.78-.78 2.05 0 2.83L4 21.41c.39.39.9.59 1.41.59.51 0 1.02-.2 1.41-.59l7.78-7.78 2.81-2.81c.8-.78.8-2.07 0-2.86zM5.41 20L4 18.59l7.72-7.72 1.47 1.35L5.41 20z\"/>\n",
              "  </svg>\n",
              "      </button>\n",
              "      \n",
              "  <style>\n",
              "    .colab-df-container {\n",
              "      display:flex;\n",
              "      flex-wrap:wrap;\n",
              "      gap: 12px;\n",
              "    }\n",
              "\n",
              "    .colab-df-convert {\n",
              "      background-color: #E8F0FE;\n",
              "      border: none;\n",
              "      border-radius: 50%;\n",
              "      cursor: pointer;\n",
              "      display: none;\n",
              "      fill: #1967D2;\n",
              "      height: 32px;\n",
              "      padding: 0 0 0 0;\n",
              "      width: 32px;\n",
              "    }\n",
              "\n",
              "    .colab-df-convert:hover {\n",
              "      background-color: #E2EBFA;\n",
              "      box-shadow: 0px 1px 2px rgba(60, 64, 67, 0.3), 0px 1px 3px 1px rgba(60, 64, 67, 0.15);\n",
              "      fill: #174EA6;\n",
              "    }\n",
              "\n",
              "    [theme=dark] .colab-df-convert {\n",
              "      background-color: #3B4455;\n",
              "      fill: #D2E3FC;\n",
              "    }\n",
              "\n",
              "    [theme=dark] .colab-df-convert:hover {\n",
              "      background-color: #434B5C;\n",
              "      box-shadow: 0px 1px 3px 1px rgba(0, 0, 0, 0.15);\n",
              "      filter: drop-shadow(0px 1px 2px rgba(0, 0, 0, 0.3));\n",
              "      fill: #FFFFFF;\n",
              "    }\n",
              "  </style>\n",
              "\n",
              "      <script>\n",
              "        const buttonEl =\n",
              "          document.querySelector('#df-06dbac95-8fab-4426-8c39-3a7f44bedf60 button.colab-df-convert');\n",
              "        buttonEl.style.display =\n",
              "          google.colab.kernel.accessAllowed ? 'block' : 'none';\n",
              "\n",
              "        async function convertToInteractive(key) {\n",
              "          const element = document.querySelector('#df-06dbac95-8fab-4426-8c39-3a7f44bedf60');\n",
              "          const dataTable =\n",
              "            await google.colab.kernel.invokeFunction('convertToInteractive',\n",
              "                                                     [key], {});\n",
              "          if (!dataTable) return;\n",
              "\n",
              "          const docLinkHtml = 'Like what you see? Visit the ' +\n",
              "            '<a target=\"_blank\" href=https://colab.research.google.com/notebooks/data_table.ipynb>data table notebook</a>'\n",
              "            + ' to learn more about interactive tables.';\n",
              "          element.innerHTML = '';\n",
              "          dataTable['output_type'] = 'display_data';\n",
              "          await google.colab.output.renderOutput(dataTable, element);\n",
              "          const docLink = document.createElement('div');\n",
              "          docLink.innerHTML = docLinkHtml;\n",
              "          element.appendChild(docLink);\n",
              "        }\n",
              "      </script>\n",
              "    </div>\n",
              "  </div>\n",
              "  "
            ]
          },
          "metadata": {},
          "execution_count": 19
        }
      ]
    },
    {
      "cell_type": "markdown",
      "metadata": {
        "id": "HP2QtoOnJYE1"
      },
      "source": [
        "We see once again that simple returns are higher than log returns.\n",
        "\n",
        "# Calculating Total Return for a Single Year or Month\n",
        "\n",
        "Let's say we are interested in calculating the total return for 2019 only. This is accomplished by first summing the dividends over 2019. For simple total return, you must add the dividends to the end of 2019 value of the asset and divide by the start of 2019 value of the asset."
      ]
    },
    {
      "cell_type": "code",
      "metadata": {
        "id": "jXsgVyRTPyIj",
        "colab": {
          "base_uri": "https://localhost:8080/"
        },
        "outputId": "24869ab1-abe8-4d5f-8819-25970df4b1be"
      },
      "source": [
        "# Dividends in 2019\n",
        "dividends_2019 = data['Dividends'].loc['2019'].sum()\n",
        "# Value at end of 2019\n",
        "end_2019 = data['Close'].loc['2019'].iloc[-1]\n",
        "# Value at start of 2019\n",
        "start_2019 = data['Close'].loc['2019'].iloc[0]\n",
        "\n",
        "simp_total_ret_2019 = (end_2019 + dividends_2019)/start_2019 - 1\n",
        "\n",
        "log_total_ret_2019 = np.log(dividends_2019 + end_2019) - np.log(start_2019)\n",
        "\n",
        "print(\"The simple total return of the SPY in 2019 was:\",\"{:.2%}\".format(simp_total_ret_2019),\n",
        "      \"and the log total return of the SPY in 2019 was:\",\"{:.2%}\".format(log_total_ret_2019))"
      ],
      "execution_count": 20,
      "outputs": [
        {
          "output_type": "stream",
          "name": "stdout",
          "text": [
            "The simple total return of the SPY in 2019 was: 30.59% and the log total return of the SPY in 2019 was: 26.69%\n"
          ]
        }
      ]
    },
    {
      "cell_type": "markdown",
      "metadata": {
        "id": "FV6Fv2yWw93O"
      },
      "source": [
        "You can also specifiy a month in particular such as September 2019"
      ]
    },
    {
      "cell_type": "code",
      "metadata": {
        "id": "PniJhbIjxJtt",
        "colab": {
          "base_uri": "https://localhost:8080/"
        },
        "outputId": "a1427793-bbc4-4017-e714-e2af92251738"
      },
      "source": [
        "# Set month and year\n",
        "sept_2019 = '2019-09'\n",
        "# Dividends in September 2019\n",
        "dividends_sept_2019 = data['Dividends'].loc[sept_2019].sum()\n",
        "# Value at end of September 2019\n",
        "end_sept_2019 = data['Close'].loc[sept_2019].iloc[-1]\n",
        "# Value at start of September 2019\n",
        "start_sept_2019 = data['Close'].loc[sept_2019].iloc[0]\n",
        "\n",
        "simp_total_ret_sept_2019 = (end_sept_2019 + dividends_sept_2019)/start_sept_2019 - 1\n",
        "\n",
        "log_total_ret_sept_2019 = np.log(dividends_sept_2019 + end_sept_2019) - np.log(start_sept_2019)\n",
        "\n",
        "print(\"The simple total return of the SPY during September 2019 was:\",\"{:.2%}\".format(simp_total_ret_sept_2019),\n",
        "      \"and the log total return of the SPY during September 2019 was:\",\"{:.2%}\".format(log_total_ret_sept_2019))"
      ],
      "execution_count": 23,
      "outputs": [
        {
          "output_type": "stream",
          "name": "stdout",
          "text": [
            "The simple total return of the SPY during September 2019 was: 2.55% and the log total return of the SPY during September 2019 was: 2.52%\n"
          ]
        }
      ]
    },
    {
      "cell_type": "markdown",
      "metadata": {
        "id": "gEM4xFvBiFJw"
      },
      "source": [
        "# Calculating Total Return between Two Specified Dates\n",
        "\n",
        "Say you want to calculate the total return between a specific time period that is not a single year or single month. To do this, we will need to sum up the dividends paid between those two dates and find the asset price value at those two dates. For example, to calculate total return between February 1st, 2019 to July 31st, 2019, you can do the following:"
      ]
    },
    {
      "cell_type": "code",
      "metadata": {
        "id": "U5SmFadnu-xO",
        "colab": {
          "base_uri": "https://localhost:8080/"
        },
        "outputId": "84ccfb46-296e-4b8c-8281-99f89b4b8e1d"
      },
      "source": [
        "# Assign the slice of data containing the range between the two specified dates to data_slice\n",
        "data_slice = data['2019-02-01':'2019-07-31']\n",
        "\n",
        "# Sum dividends over data slice\n",
        "slice_dividends = data_slice['Dividends'].sum()\n",
        "\n",
        "# Take the starting and end points of the slice data\n",
        "simp_slice_total_return = (data_slice['Close'].iloc[-1]+ slice_dividends)/data_slice['Close'].iloc[0] -1\n",
        "\n",
        "log_slice_total_return = np.log(data_slice['Close'].iloc[-1] + slice_dividends) - np.log(data_slice['Close'].iloc[0])\n",
        "\n",
        "print(\"The simple total return of the SPY between February 1st, 2019 to July 31st, 2019 was:\",\"{:.2%}\".format(simp_slice_total_return),\n",
        "      \"and the log total return of the SPY between February 1st, 2019 to July 31st, 2019 was:\",\"{:.2%}\".format(log_slice_total_return))"
      ],
      "execution_count": 24,
      "outputs": [
        {
          "output_type": "stream",
          "name": "stdout",
          "text": [
            "The simple total return of the SPY between February 1st, 2019 to July 31st, 2019 was: 11.12% and the log total return of the SPY between February 1st, 2019 to July 31st, 2019 was: 10.55%\n"
          ]
        }
      ]
    },
    {
      "cell_type": "markdown",
      "metadata": {
        "id": "pnSe3cJtJYE2"
      },
      "source": [
        "# Conclusion\n",
        "\n",
        "I hope this notebook helped you learn something about Python and calculating the various types of returns. By computing total returns as shown in this notebook, one can backtest and review asset returns while accounting for dividends albeit only securities which do not have stock splits which is a topic that will be covered in a future notebook. "
      ]
    }
  ]
}